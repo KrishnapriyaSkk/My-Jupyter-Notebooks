{
  "nbformat": 4,
  "nbformat_minor": 0,
  "metadata": {
    "colab": {
      "name": "handwrittendigits.ipynb",
      "provenance": [],
      "collapsed_sections": [],
      "include_colab_link": true
    },
    "kernelspec": {
      "name": "python3",
      "display_name": "Python 3"
    }
  },
  "cells": [
    {
      "cell_type": "markdown",
      "metadata": {
        "id": "view-in-github",
        "colab_type": "text"
      },
      "source": [
        "<a href=\"https://colab.research.google.com/github/KrishnapriyaSkk/My-Jupyter-Notebooks/blob/main/handwrittendigits.ipynb\" target=\"_parent\"><img src=\"https://colab.research.google.com/assets/colab-badge.svg\" alt=\"Open In Colab\"/></a>"
      ]
    },
    {
      "cell_type": "markdown",
      "metadata": {
        "id": "aAI-h-kI7Kmc"
      },
      "source": [
        "\n",
        "# This is a notebook that implements \"Classification of Handwritten digit images\"."
      ]
    },
    {
      "cell_type": "markdown",
      "metadata": {
        "id": "NTEBqsH1laTV"
      },
      "source": [
        "1. Import Tensorflow\n"
      ]
    },
    {
      "cell_type": "code",
      "metadata": {
        "id": "OK5ABDOyldos",
        "colab": {
          "base_uri": "https://localhost:8080/",
          "height": 34
        },
        "outputId": "ede1115a-1131-43ac-d5d5-e190b099fda4"
      },
      "source": [
        "import tensorflow as tf\n",
        "\n",
        "print('Version: ', tf.__version__)"
      ],
      "execution_count": null,
      "outputs": [
        {
          "output_type": "stream",
          "text": [
            "Version:  2.2.0\n"
          ],
          "name": "stdout"
        }
      ]
    },
    {
      "cell_type": "markdown",
      "metadata": {
        "id": "-gY-kdN6lfTw"
      },
      "source": [
        "2. **Dataset** :\n",
        "Import MNIST"
      ]
    },
    {
      "cell_type": "code",
      "metadata": {
        "id": "lKOd55r2ljBq"
      },
      "source": [
        "from tensorflow.keras.datasets import mnist\n",
        "(x_train, y_train), (x_test, y_test) = mnist.load_data()"
      ],
      "execution_count": null,
      "outputs": []
    },
    {
      "cell_type": "markdown",
      "metadata": {
        "id": "eAEaGhPKr5YG"
      },
      "source": [
        "3.View **shapes** of imported arrays"
      ]
    },
    {
      "cell_type": "code",
      "metadata": {
        "id": "V2cczFxpsAH6",
        "colab": {
          "base_uri": "https://localhost:8080/",
          "height": 85
        },
        "outputId": "7db5b334-edad-4daa-b522-e7f084f7347b"
      },
      "source": [
        "print('x_train shape:', x_train.shape)\n",
        "print('y_train shape:', y_train.shape)\n",
        "print('x_test shape:', x_test.shape)\n",
        "print('y_test shape:', y_test.shape)"
      ],
      "execution_count": null,
      "outputs": [
        {
          "output_type": "stream",
          "text": [
            "x_train shape: (60000, 28, 28)\n",
            "y_train shape: (60000,)\n",
            "x_test shape: (10000, 28, 28)\n",
            "y_test shape: (10000,)\n"
          ],
          "name": "stdout"
        }
      ]
    },
    {
      "cell_type": "markdown",
      "metadata": {
        "id": "UZvkLw_zsm2u"
      },
      "source": [
        "4. Displaying an example"
      ]
    },
    {
      "cell_type": "code",
      "metadata": {
        "id": "DsPGDfdpsqmp",
        "colab": {
          "base_uri": "https://localhost:8080/",
          "height": 265
        },
        "outputId": "ad1cd36b-ad1e-4353-dda0-f18ccb6462de"
      },
      "source": [
        "from matplotlib import pyplot as pyplot\n",
        "%matplotlib inline\n",
        "\n",
        "plt.imshow(x_train[8], cmap ='binary')\n",
        "plt.show()"
      ],
      "execution_count": null,
      "outputs": [
        {
          "output_type": "display_data",
          "data": {
            "image/png": "[encoded data removed]",
            "text/plain": [
              "<Figure size 432x288 with 1 Axes>"
            ]
          },
          "metadata": {
            "tags": [],
            "needs_background": "light"
          }
        }
      ]
    },
    {
      "cell_type": "markdown",
      "metadata": {
        "id": "X4xaz0c_tNL1"
      },
      "source": [
        "5. Let's take a look at the label"
      ]
    },
    {
      "cell_type": "code",
      "metadata": {
        "id": "6MKeFhovtVqL",
        "colab": {
          "base_uri": "https://localhost:8080/",
          "height": 34
        },
        "outputId": "8df1b7a8-228d-4cfc-a332-0b8ba453a282"
      },
      "source": [
        "y_train[8]"
      ],
      "execution_count": null,
      "outputs": [
        {
          "output_type": "execute_result",
          "data": {
            "text/plain": [
              "1"
            ]
          },
          "metadata": {
            "tags": []
          },
          "execution_count": 42
        }
      ]
    },
    {
      "cell_type": "markdown",
      "metadata": {
        "id": "joDu1LjgtflX"
      },
      "source": [
        "6. Taking a look at all the labels we have\n"
      ]
    },
    {
      "cell_type": "code",
      "metadata": {
        "id": "AeuY8Td0tsc1",
        "colab": {
          "base_uri": "https://localhost:8080/",
          "height": 34
        },
        "outputId": "8ba4c1ad-4cf1-4a7c-dfd4-cbb23269dc49"
      },
      "source": [
        "print(set(y_train))"
      ],
      "execution_count": null,
      "outputs": [
        {
          "output_type": "stream",
          "text": [
            "{0, 1, 2, 3, 4, 5, 6, 7, 8, 9}\n"
          ],
          "name": "stdout"
        }
      ]
    },
    {
      "cell_type": "markdown",
      "metadata": {
        "id": "YowfTolAtxxQ"
      },
      "source": [
        "7.ONE HOT ENCODING :\n",
        "\n",
        "**Original** ..............**Encoded label**\n",
        "\n",
        "---\n",
        "\n",
        "\n",
        "\n",
        "0   :\t..................[1, 0, 0, 0, 0, 0, 0, 0, 0, 0]\n",
        "\n",
        "9   : ..................[0, 0, 0, 0, 0, 0, 0, 0, 0, 1]\n",
        "\n",
        "3 \t: ..................[0, 0, 0, 1, 0, 0, 0, 0, 0, 0]\n",
        "\n"
      ]
    },
    {
      "cell_type": "code",
      "metadata": {
        "id": "fbUDVC8Qt8nq"
      },
      "source": [
        "from tensorflow.keras.utils import to_categorical\n",
        "\n",
        "y_train_enc = to_categorical(y_train)\n",
        "y_test_enc = to_categorical(y_test)"
      ],
      "execution_count": null,
      "outputs": []
    },
    {
      "cell_type": "markdown",
      "metadata": {
        "id": "qfYewZAFv8Hf"
      },
      "source": [
        "8. Let's see if the encoding worked"
      ]
    },
    {
      "cell_type": "code",
      "metadata": {
        "id": "weDyhTQYwIQN",
        "colab": {
          "base_uri": "https://localhost:8080/",
          "height": 34
        },
        "outputId": "796e98ae-c022-4de5-a286-ba5e144071fc"
      },
      "source": [
        "y_train_enc[8]"
      ],
      "execution_count": null,
      "outputs": [
        {
          "output_type": "execute_result",
          "data": {
            "text/plain": [
              "array([0., 1., 0., 0., 0., 0., 0., 0., 0., 0.], dtype=float32)"
            ]
          },
          "metadata": {
            "tags": []
          },
          "execution_count": 46
        }
      ]
    },
    {
      "cell_type": "markdown",
      "metadata": {
        "id": "3nfNsxOAcYNs"
      },
      "source": [
        "7. Coverting input array into vector"
      ]
    },
    {
      "cell_type": "code",
      "metadata": {
        "id": "cAggiwLQcdc9",
        "colab": {
          "base_uri": "https://localhost:8080/",
          "height": 51
        },
        "outputId": "bd022d2d-799f-4425-b603-adaa2fff5e5e"
      },
      "source": [
        "import numpy as np\n",
        "\n",
        "x_train_vector = np.reshape(x_train,(60000,784))\n",
        "x_test_vector = np.reshape(x_test,(10000,784))\n",
        "\n",
        "print('x_train_vector shape:', x_train_vector.shape)\n",
        "print('x_test_vector shape:', x_test_vector.shape)"
      ],
      "execution_count": null,
      "outputs": [
        {
          "output_type": "stream",
          "text": [
            "x_train_vector shape: (60000, 784)\n",
            "x_test_vector shape: (10000, 784)\n"
          ],
          "name": "stdout"
        }
      ]
    },
    {
      "cell_type": "markdown",
      "metadata": {
        "id": "psIclrgYe7BF"
      },
      "source": [
        "8. Taking a look at pixel values"
      ]
    },
    {
      "cell_type": "code",
      "metadata": {
        "id": "oDdLRoUue-iO",
        "colab": {
          "base_uri": "https://localhost:8080/",
          "height": 54
        },
        "outputId": "4ae9f398-6525-488b-908e-371eca925650"
      },
      "source": [
        "print(set(x_train_vector[0]))"
      ],
      "execution_count": null,
      "outputs": [
        {
          "output_type": "stream",
          "text": [
            "{0, 1, 2, 3, 9, 11, 14, 16, 18, 23, 24, 25, 26, 27, 30, 35, 36, 39, 43, 45, 46, 49, 55, 56, 64, 66, 70, 78, 80, 81, 82, 90, 93, 94, 107, 108, 114, 119, 126, 127, 130, 132, 133, 135, 136, 139, 148, 150, 154, 156, 160, 166, 170, 171, 172, 175, 182, 183, 186, 187, 190, 195, 198, 201, 205, 207, 212, 213, 219, 221, 225, 226, 229, 238, 240, 241, 242, 244, 247, 249, 250, 251, 252, 253, 255}\n"
          ],
          "name": "stdout"
        }
      ]
    },
    {
      "cell_type": "markdown",
      "metadata": {
        "id": "zuPHy8-Nf_8X"
      },
      "source": [
        "9. Normalizing the data"
      ]
    },
    {
      "cell_type": "code",
      "metadata": {
        "id": "5-LwwPzpgEXu"
      },
      "source": [
        "x_mean = np.mean(x_train_vector)\n",
        "x_sd = np.std(x_train_vector)\n",
        "epsilon = 1e-10\n",
        "x_train_normalised = (x_train_vector-x_mean) / (x_sd + epsilon)\n",
        "x_test_normalised = (x_test_vector-x_mean) / (x_sd + epsilon)\n"
      ],
      "execution_count": null,
      "outputs": []
    },
    {
      "cell_type": "markdown",
      "metadata": {
        "id": "kgWpEEBhgy_m"
      },
      "source": [
        "10. Displaying normalized values"
      ]
    },
    {
      "cell_type": "code",
      "metadata": {
        "id": "WOgSvLUcg2P6",
        "colab": {
          "base_uri": "https://localhost:8080/",
          "height": 54
        },
        "outputId": "89316fb7-26f2-48e4-f5b6-36dd3c5f0a72"
      },
      "source": [
        "print(set(x_train_normalised[0]))"
      ],
      "execution_count": null,
      "outputs": [
        {
          "output_type": "stream",
          "text": [
            "{-0.38589016215482896, 1.306921966983251, 1.17964285952926, 1.803310486053816, 1.6887592893452241, 2.8215433456857437, 2.719720059722551, 1.1923707702746593, 1.7396709323268205, 2.057868700961798, 2.3633385588513764, 2.096052433197995, 1.7651267538176187, 2.7960875241949457, 2.7451758812133495, 2.45243393406917, 0.02140298169794222, -0.22042732246464067, 1.2305545025108566, 0.2759611966059242, 2.210603629906587, 2.6560805059955555, 2.6051688630139593, -0.4240738943910262, 0.4668798577869107, 0.1486820891519332, 0.3905123933145161, 1.0905474843114664, -0.09314821501064967, 1.4851127174188385, 2.7579037919587486, 1.5360243604004349, 0.07231462467953861, -0.13133194724684696, 1.294194056237852, 0.03413089244334132, 1.3451056992194483, 2.274243183633583, -0.24588314395543887, 0.772349715676489, 0.75962180493109, 0.7214380726948927, 0.1995937321335296, -0.41134598364562713, 0.5687031437501034, 0.5941589652409017, 0.9378125553666773, 0.9505404661120763, 0.6068868759863008, 0.4159682148053143, -0.042236572029053274, 2.7706317027041476, 2.1342361654341926, 0.12322626766113501, -0.08042030426525057, 0.16140999989733232, 1.8924058612716097, 1.2560103240016547, 2.185147808415789, 0.6196147867316999, 1.943317504253206, -0.11860403650144787, -0.30952269768243434, 1.9942291472348024, -0.2840668761916362, 2.6306246845047574, 2.286971094378982, -0.19497150097384247, -0.39861807290022805, 0.2886891073513233, 1.7523988430722195, 2.3887943803421745, 2.681536327486354, 1.4596568959280403, 2.439706023323771, 2.7833596134495466, 2.490617666305367, -0.10587612575604877, 1.5614801818912332, 1.9051337720170087, 1.6123918248728295, 1.268738234747054, 1.9560454149986053, 2.6433525952501564, 1.026907930584471}\n"
          ],
          "name": "stdout"
        }
      ]
    },
    {
      "cell_type": "markdown",
      "metadata": {
        "id": "Qb7vT9LNhFf8"
      },
      "source": [
        "11. CREATING A MODEL :\n",
        "\n",
        "The 'relu' activation function is mathematically y=max(0,x)\n",
        "\n"
      ]
    },
    {
      "cell_type": "code",
      "metadata": {
        "id": "QehRMi-5hT1c"
      },
      "source": [
        "from tensorflow.keras.models import Sequential\n",
        "from tensorflow.keras.layers import Dense\n",
        "\n",
        "model = Sequential([\n",
        "                    Dense(128, activation='relu', input_shape=(784,)),\n",
        "                    Dense(128,activation='relu'),\n",
        "                    Dense(10, activation='softmax')\n",
        "])"
      ],
      "execution_count": null,
      "outputs": []
    },
    {
      "cell_type": "markdown",
      "metadata": {
        "id": "7ec1js3JjpVz"
      },
      "source": [
        "12.Compiling our model\n",
        "\n",
        "Optimizers: Optimizers are algorithms or methods used to change the attributes of your neural network such as weights and learning rate in order to reduce the losses. Optimizers help to get results faster.\n"
      ]
    },
    {
      "cell_type": "code",
      "metadata": {
        "id": "wSKzYtFXjrev",
        "colab": {
          "base_uri": "https://localhost:8080/",
          "height": 255
        },
        "outputId": "07f45250-4897-4f3d-f690-ac37a08676c8"
      },
      "source": [
        "model.compile(\n",
        "    optimizer = 'sgd',\n",
        "    loss ='categorical_crossentropy',\n",
        "    metrics = ['accuracy']\n",
        ")\n",
        "\n",
        "model.summary()"
      ],
      "execution_count": null,
      "outputs": [
        {
          "output_type": "stream",
          "text": [
            "Model: \"sequential_2\"\n",
            "_________________________________________________________________\n",
            "Layer (type)                 Output Shape              Param #   \n",
            "=================================================================\n",
            "dense_6 (Dense)              (None, 128)               100480    \n",
            "_________________________________________________________________\n",
            "dense_7 (Dense)              (None, 128)               16512     \n",
            "_________________________________________________________________\n",
            "dense_8 (Dense)              (None, 10)                1290      \n",
            "=================================================================\n",
            "Total params: 118,282\n",
            "Trainable params: 118,282\n",
            "Non-trainable params: 0\n",
            "_________________________________________________________________\n"
          ],
          "name": "stdout"
        }
      ]
    },
    {
      "cell_type": "markdown",
      "metadata": {
        "id": "OeVD7SD4kgnH"
      },
      "source": [
        "12. Let's train our model!!!"
      ]
    },
    {
      "cell_type": "code",
      "metadata": {
        "id": "q8N8RE6skkGQ",
        "colab": {
          "base_uri": "https://localhost:8080/",
          "height": 136
        },
        "outputId": "24902c8e-9ebc-448c-d2b0-32b18e28dcd1"
      },
      "source": [
        "model.fit(x_train_normalised, y_train_enc, epochs=3)"
      ],
      "execution_count": null,
      "outputs": [
        {
          "output_type": "stream",
          "text": [
            "Epoch 1/3\n",
            "1875/1875 [==============================] - 4s 2ms/step - loss: 0.3596 - accuracy: 0.8958\n",
            "Epoch 2/3\n",
            "1875/1875 [==============================] - 4s 2ms/step - loss: 0.1778 - accuracy: 0.9478\n",
            "Epoch 3/3\n",
            "1875/1875 [==============================] - 4s 2ms/step - loss: 0.1331 - accuracy: 0.9608\n"
          ],
          "name": "stdout"
        },
        {
          "output_type": "execute_result",
          "data": {
            "text/plain": [
              "<tensorflow.python.keras.callbacks.History at 0x7f884f1105f8>"
            ]
          },
          "metadata": {
            "tags": []
          },
          "execution_count": 56
        }
      ]
    },
    {
      "cell_type": "markdown",
      "metadata": {
        "id": "Ni6eCJUZlJPE"
      },
      "source": [
        "13. Let us evaluate our model: "
      ]
    },
    {
      "cell_type": "code",
      "metadata": {
        "id": "x_I7AIfTlMDa",
        "colab": {
          "base_uri": "https://localhost:8080/",
          "height": 51
        },
        "outputId": "510a78e1-907b-414b-c752-3f52cb428d68"
      },
      "source": [
        "loss, accuracy=model.evaluate(x_test_normalised, y_test_enc)\n",
        "print(\"Accuracy: \", accuracy*100)\n"
      ],
      "execution_count": null,
      "outputs": [
        {
          "output_type": "stream",
          "text": [
            "313/313 [==============================] - 0s 1ms/step - loss: 0.1203 - accuracy: 0.9640\n",
            "Accuracy:  96.39999866485596\n"
          ],
          "name": "stdout"
        }
      ]
    },
    {
      "cell_type": "markdown",
      "metadata": {
        "id": "54WKnYhm_-hn"
      },
      "source": [
        "14. Let us look at the  shape of PREDICTIONS ON TEST SET :"
      ]
    },
    {
      "cell_type": "code",
      "metadata": {
        "id": "jwjAgcyvpqWu",
        "colab": {
          "base_uri": "https://localhost:8080/",
          "height": 34
        },
        "outputId": "7a93bfbe-349e-4bb5-9ef7-610e32e08999"
      },
      "source": [
        "preds = model.predict(x_test_normalised)\n",
        "print('shape: ',preds.shape)"
      ],
      "execution_count": null,
      "outputs": [
        {
          "output_type": "stream",
          "text": [
            "shape:  (10000, 10)\n"
          ],
          "name": "stdout"
        }
      ]
    },
    {
      "cell_type": "markdown",
      "metadata": {
        "id": "6YPWbKy0p962"
      },
      "source": [
        "15. Now let us plot the predictions"
      ]
    },
    {
      "cell_type": "code",
      "metadata": {
        "id": "wrtqPg9tqAcS",
        "colab": {
          "base_uri": "https://localhost:8080/",
          "height": 860
        },
        "outputId": "86dae966-8aba-4b51-8c82-504c5adc6c5a"
      },
      "source": [
        "plt.figure(figsize=(15,15))\n",
        "index = 0\n",
        "\n",
        "for i in range(25):\n",
        "  plt.subplot(5,5,i+1)\n",
        "  plt.grid(False)\n",
        "  plt.xticks([])\n",
        "  plt.yticks([])\n",
        "\n",
        "  pred = np.argmax(preds[index+i])\n",
        "  gt = y_test[index+i]\n",
        "\n",
        "  col='g'\n",
        "  if(pred != gt):\n",
        "    col='r'\n",
        "\n",
        "  plt.xlabel('i ={},pred ={}, gt ={}'.format(index+i,pred,gt), color=col)\n",
        "  plt.imshow(x_test[index+i], cmap='binary')\n",
        "\n",
        "plt.show()\n",
        "\n",
        "  "
      ],
      "execution_count": null,
      "outputs": [
        {
          "output_type": "display_data",
          "data": {
            "image/png": "[encoded data removed]",
            "text/plain": [
              "<Figure size 1080x1080 with 25 Axes>"
            ]
          },
          "metadata": {
            "tags": []
          }
        }
      ]
    },
    {
      "cell_type": "markdown",
      "metadata": {
        "id": "YTslm7bpAFGl"
      },
      "source": [
        "14. Plot graph of result: "
      ]
    },
    {
      "cell_type": "code",
      "metadata": {
        "id": "WouC7XSkuboN",
        "colab": {
          "base_uri": "https://localhost:8080/",
          "height": 267
        },
        "outputId": "c60be485-f246-49db-986b-dcaf5f48f776"
      },
      "source": [
        "plt.plot(preds[8])\n",
        "plt.show()"
      ],
      "execution_count": null,
      "outputs": [
        {
          "output_type": "display_data",
          "data": {
            "image/png": "[encoded data removed]",
            "text/plain": [
              "<Figure size 432x288 with 1 Axes>"
            ]
          },
          "metadata": {
            "tags": [],
            "needs_background": "light"
          }
        }
      ]
    }
  ]
}